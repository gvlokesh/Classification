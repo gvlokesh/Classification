{
  "nbformat": 4,
  "nbformat_minor": 0,
  "metadata": {
    "colab": {
      "name": "anthem_tfidf.ipynb",
      "version": "0.3.2",
      "provenance": [],
      "collapsed_sections": [],
      "include_colab_link": true
    },
    "kernelspec": {
      "name": "python3",
      "display_name": "Python 3"
    }
  },
  "cells": [
    {
      "cell_type": "markdown",
      "metadata": {
        "id": "view-in-github",
        "colab_type": "text"
      },
      "source": [
        "<a href=\"https://colab.research.google.com/github/gvlokesh/Classification/blob/master/anthem_tfidf.ipynb\" target=\"_parent\"><img src=\"https://colab.research.google.com/assets/colab-badge.svg\" alt=\"Open In Colab\"/></a>"
      ]
    },
    {
      "cell_type": "code",
      "metadata": {
        "id": "JlHoCvaC7ISS",
        "colab_type": "code",
        "colab": {}
      },
      "source": [
        "import pandas as pd\n",
        "training_desc=['today is a great day', 'it is a very sunny day','Today I have a great plan','plan','great']\n",
        "training_variable=['x','y','z','m','n']\n",
        "training_p1=['1','2','3','9','0']\n",
        "training_p2=['4','5','6','7','8']\n",
        "df_train = pd.DataFrame(list(zip(training_desc, training_variable,training_p1,training_p2)), \n",
        "               columns =['combo', 'var','p1','p2']) \n",
        "\n"
      ],
      "execution_count": 0,
      "outputs": []
    },
    {
      "cell_type": "code",
      "metadata": {
        "id": "FEhNesrr7R6r",
        "colab_type": "code",
        "colab": {}
      },
      "source": [
        "test_desc=['today is a great ', 'it is  very sunny today']\n",
        "\n",
        "test_p1=['1','2','3']\n",
        "test_p2=['4','5','6']\n",
        "df_test = pd.DataFrame(list(zip(test_desc,test_p1,test_p2)), \n",
        "               columns =['combo','p1','p2']) "
      ],
      "execution_count": 0,
      "outputs": []
    },
    {
      "cell_type": "code",
      "metadata": {
        "id": "NcoJi4fl7R9k",
        "colab_type": "code",
        "colab": {}
      },
      "source": [
        ""
      ],
      "execution_count": 0,
      "outputs": []
    },
    {
      "cell_type": "code",
      "metadata": {
        "id": "zXOSaxye7SEU",
        "colab_type": "code",
        "outputId": "b5a3150c-0900-4de9-f915-760e0ee783a3",
        "colab": {
          "base_uri": "https://localhost:8080/",
          "height": 204
        }
      },
      "source": [
        "df_train"
      ],
      "execution_count": 85,
      "outputs": [
        {
          "output_type": "execute_result",
          "data": {
            "text/html": [
              "<div>\n",
              "<style scoped>\n",
              "    .dataframe tbody tr th:only-of-type {\n",
              "        vertical-align: middle;\n",
              "    }\n",
              "\n",
              "    .dataframe tbody tr th {\n",
              "        vertical-align: top;\n",
              "    }\n",
              "\n",
              "    .dataframe thead th {\n",
              "        text-align: right;\n",
              "    }\n",
              "</style>\n",
              "<table border=\"1\" class=\"dataframe\">\n",
              "  <thead>\n",
              "    <tr style=\"text-align: right;\">\n",
              "      <th></th>\n",
              "      <th>combo</th>\n",
              "      <th>var</th>\n",
              "      <th>p1</th>\n",
              "      <th>p2</th>\n",
              "    </tr>\n",
              "  </thead>\n",
              "  <tbody>\n",
              "    <tr>\n",
              "      <th>0</th>\n",
              "      <td>today is a great day</td>\n",
              "      <td>x</td>\n",
              "      <td>1</td>\n",
              "      <td>4</td>\n",
              "    </tr>\n",
              "    <tr>\n",
              "      <th>1</th>\n",
              "      <td>it is a very sunny day</td>\n",
              "      <td>y</td>\n",
              "      <td>2</td>\n",
              "      <td>5</td>\n",
              "    </tr>\n",
              "    <tr>\n",
              "      <th>2</th>\n",
              "      <td>Today I have a great plan</td>\n",
              "      <td>z</td>\n",
              "      <td>3</td>\n",
              "      <td>6</td>\n",
              "    </tr>\n",
              "    <tr>\n",
              "      <th>3</th>\n",
              "      <td>plan</td>\n",
              "      <td>m</td>\n",
              "      <td>9</td>\n",
              "      <td>7</td>\n",
              "    </tr>\n",
              "    <tr>\n",
              "      <th>4</th>\n",
              "      <td>great</td>\n",
              "      <td>n</td>\n",
              "      <td>0</td>\n",
              "      <td>8</td>\n",
              "    </tr>\n",
              "  </tbody>\n",
              "</table>\n",
              "</div>"
            ],
            "text/plain": [
              "                       combo var p1 p2\n",
              "0       today is a great day   x  1  4\n",
              "1     it is a very sunny day   y  2  5\n",
              "2  Today I have a great plan   z  3  6\n",
              "3                       plan   m  9  7\n",
              "4                      great   n  0  8"
            ]
          },
          "metadata": {
            "tags": []
          },
          "execution_count": 85
        }
      ]
    },
    {
      "cell_type": "code",
      "metadata": {
        "id": "J-u_iWs49b-C",
        "colab_type": "code",
        "outputId": "c2587532-2e7a-4416-d169-f538de69ed02",
        "colab": {
          "base_uri": "https://localhost:8080/",
          "height": 111
        }
      },
      "source": [
        "df_test"
      ],
      "execution_count": 86,
      "outputs": [
        {
          "output_type": "execute_result",
          "data": {
            "text/html": [
              "<div>\n",
              "<style scoped>\n",
              "    .dataframe tbody tr th:only-of-type {\n",
              "        vertical-align: middle;\n",
              "    }\n",
              "\n",
              "    .dataframe tbody tr th {\n",
              "        vertical-align: top;\n",
              "    }\n",
              "\n",
              "    .dataframe thead th {\n",
              "        text-align: right;\n",
              "    }\n",
              "</style>\n",
              "<table border=\"1\" class=\"dataframe\">\n",
              "  <thead>\n",
              "    <tr style=\"text-align: right;\">\n",
              "      <th></th>\n",
              "      <th>combo</th>\n",
              "      <th>p1</th>\n",
              "      <th>p2</th>\n",
              "    </tr>\n",
              "  </thead>\n",
              "  <tbody>\n",
              "    <tr>\n",
              "      <th>0</th>\n",
              "      <td>today is a great</td>\n",
              "      <td>1</td>\n",
              "      <td>4</td>\n",
              "    </tr>\n",
              "    <tr>\n",
              "      <th>1</th>\n",
              "      <td>it is  very sunny today</td>\n",
              "      <td>2</td>\n",
              "      <td>5</td>\n",
              "    </tr>\n",
              "  </tbody>\n",
              "</table>\n",
              "</div>"
            ],
            "text/plain": [
              "                     combo p1 p2\n",
              "0        today is a great   1  4\n",
              "1  it is  very sunny today  2  5"
            ]
          },
          "metadata": {
            "tags": []
          },
          "execution_count": 86
        }
      ]
    },
    {
      "cell_type": "code",
      "metadata": {
        "id": "onHxKGhB7SJR",
        "colab_type": "code",
        "outputId": "00a5dc90-00cb-47a4-e617-d3dc6c76aaf5",
        "colab": {
          "base_uri": "https://localhost:8080/",
          "height": 102
        }
      },
      "source": [
        "import re\n",
        "import nltk\n",
        "nltk.download('stopwords')\n",
        "from nltk.corpus import stopwords\n",
        "from nltk.stem.porter import PorterStemmer\n",
        "corpus = []\n",
        "\n",
        "for i in range(0, len(df_train['combo'])):    \n",
        "   review = re.sub('[^a-zA-Z0-9]', ' ', df_train['combo'][i]) \n",
        "   review = review.lower()  \n",
        "   review = review.split()   \n",
        "   ps = PorterStemmer()   \n",
        "   review = [ps.stem(word) for word in review if not word in set(stopwords.words('english'))]\n",
        "   review = ' '.join(review   )\n",
        "   corpus.append(review)\n",
        "df_train['combo_cleaned']=corpus\n",
        "\n",
        "\n",
        "\n",
        "#Training\n",
        "\n",
        "# list of text documents\n",
        "\n",
        "import joblib\n",
        "\n",
        "\n",
        "from sklearn.feature_extraction.text import TfidfVectorizer\n",
        "text =df_train['combo_cleaned']\n",
        "# create the transform\n",
        "vectorizer = TfidfVectorizer()\n",
        "# tokenize and build vocab\n",
        "vectorizer.fit(text)\n",
        "# summarize\n",
        "print(vectorizer.vocabulary_)\n",
        "print(vectorizer.idf_)\n",
        "joblib.dump(vectorizer,'vectorizer.pkl')\n",
        "      \n"
      ],
      "execution_count": 87,
      "outputs": [
        {
          "output_type": "stream",
          "text": [
            "[nltk_data] Downloading package stopwords to /root/nltk_data...\n",
            "[nltk_data]   Package stopwords is already up-to-date!\n",
            "{'today': 4, 'great': 1, 'day': 0, 'sunni': 3, 'plan': 2}\n",
            "[1.69314718 1.40546511 1.69314718 2.09861229 1.69314718]\n"
          ],
          "name": "stdout"
        },
        {
          "output_type": "execute_result",
          "data": {
            "text/plain": [
              "['vectorizer.pkl']"
            ]
          },
          "metadata": {
            "tags": []
          },
          "execution_count": 87
        }
      ]
    },
    {
      "cell_type": "code",
      "metadata": {
        "id": "vhjX-B3eAvc_",
        "colab_type": "code",
        "colab": {}
      },
      "source": [
        ""
      ],
      "execution_count": 0,
      "outputs": []
    },
    {
      "cell_type": "code",
      "metadata": {
        "id": "H_OIlTIj7SHx",
        "colab_type": "code",
        "outputId": "15596778-fa5c-45e3-fb91-06d74396fb4b",
        "colab": {
          "base_uri": "https://localhost:8080/",
          "height": 51
        }
      },
      "source": [
        "\n",
        "#Testing cleanup\n",
        "import joblib\n",
        "import re\n",
        "import nltk\n",
        "nltk.download('stopwords')\n",
        "from nltk.corpus import stopwords\n",
        "from nltk.stem.porter import PorterStemmer\n",
        "corpus = []\n",
        "vect=joblib.load('vectorizer.pkl')\n",
        "for i in range(0, len(df_test['combo'])):    \n",
        "   review = re.sub('[^a-zA-Z0-9]', ' ', df_test['combo'][i]) \n",
        "   review = review.lower()  \n",
        "   review = review.split()   \n",
        "   ps = PorterStemmer()   \n",
        "   review = [ps.stem(word) for word in review if not word in set(stopwords.words('english'))]\n",
        "   review = ' '.join(review   )\n",
        "   corpus.append(review)\n",
        "df_test['combo_cleaned']=corpus\n",
        "\n",
        "\n",
        "\n"
      ],
      "execution_count": 88,
      "outputs": [
        {
          "output_type": "stream",
          "text": [
            "[nltk_data] Downloading package stopwords to /root/nltk_data...\n",
            "[nltk_data]   Package stopwords is already up-to-date!\n"
          ],
          "name": "stdout"
        }
      ]
    },
    {
      "cell_type": "code",
      "metadata": {
        "id": "P6yWQi7-UIAa",
        "colab_type": "code",
        "outputId": "1cac9830-dd1e-4c9d-90de-d8d87db18c75",
        "colab": {
          "base_uri": "https://localhost:8080/",
          "height": 170
        }
      },
      "source": [
        "print(df_train,'\\n',df_test)"
      ],
      "execution_count": 89,
      "outputs": [
        {
          "output_type": "stream",
          "text": [
            "                       combo var p1 p2     combo_cleaned\n",
            "0       today is a great day   x  1  4   today great day\n",
            "1     it is a very sunny day   y  2  5         sunni day\n",
            "2  Today I have a great plan   z  3  6  today great plan\n",
            "3                       plan   m  9  7              plan\n",
            "4                      great   n  0  8             great \n",
            "                      combo p1 p2 combo_cleaned\n",
            "0        today is a great   1  4   today great\n",
            "1  it is  very sunny today  2  5   sunni today\n"
          ],
          "name": "stdout"
        }
      ]
    },
    {
      "cell_type": "code",
      "metadata": {
        "id": "YIU6ldXb7SBg",
        "colab_type": "code",
        "outputId": "1bc52db9-9610-4bb0-ea8e-8a7da9a27336",
        "colab": {
          "base_uri": "https://localhost:8080/",
          "height": 204
        }
      },
      "source": [
        "df_train"
      ],
      "execution_count": 90,
      "outputs": [
        {
          "output_type": "execute_result",
          "data": {
            "text/html": [
              "<div>\n",
              "<style scoped>\n",
              "    .dataframe tbody tr th:only-of-type {\n",
              "        vertical-align: middle;\n",
              "    }\n",
              "\n",
              "    .dataframe tbody tr th {\n",
              "        vertical-align: top;\n",
              "    }\n",
              "\n",
              "    .dataframe thead th {\n",
              "        text-align: right;\n",
              "    }\n",
              "</style>\n",
              "<table border=\"1\" class=\"dataframe\">\n",
              "  <thead>\n",
              "    <tr style=\"text-align: right;\">\n",
              "      <th></th>\n",
              "      <th>combo</th>\n",
              "      <th>var</th>\n",
              "      <th>p1</th>\n",
              "      <th>p2</th>\n",
              "      <th>combo_cleaned</th>\n",
              "    </tr>\n",
              "  </thead>\n",
              "  <tbody>\n",
              "    <tr>\n",
              "      <th>0</th>\n",
              "      <td>today is a great day</td>\n",
              "      <td>x</td>\n",
              "      <td>1</td>\n",
              "      <td>4</td>\n",
              "      <td>today great day</td>\n",
              "    </tr>\n",
              "    <tr>\n",
              "      <th>1</th>\n",
              "      <td>it is a very sunny day</td>\n",
              "      <td>y</td>\n",
              "      <td>2</td>\n",
              "      <td>5</td>\n",
              "      <td>sunni day</td>\n",
              "    </tr>\n",
              "    <tr>\n",
              "      <th>2</th>\n",
              "      <td>Today I have a great plan</td>\n",
              "      <td>z</td>\n",
              "      <td>3</td>\n",
              "      <td>6</td>\n",
              "      <td>today great plan</td>\n",
              "    </tr>\n",
              "    <tr>\n",
              "      <th>3</th>\n",
              "      <td>plan</td>\n",
              "      <td>m</td>\n",
              "      <td>9</td>\n",
              "      <td>7</td>\n",
              "      <td>plan</td>\n",
              "    </tr>\n",
              "    <tr>\n",
              "      <th>4</th>\n",
              "      <td>great</td>\n",
              "      <td>n</td>\n",
              "      <td>0</td>\n",
              "      <td>8</td>\n",
              "      <td>great</td>\n",
              "    </tr>\n",
              "  </tbody>\n",
              "</table>\n",
              "</div>"
            ],
            "text/plain": [
              "                       combo var p1 p2     combo_cleaned\n",
              "0       today is a great day   x  1  4   today great day\n",
              "1     it is a very sunny day   y  2  5         sunni day\n",
              "2  Today I have a great plan   z  3  6  today great plan\n",
              "3                       plan   m  9  7              plan\n",
              "4                      great   n  0  8             great"
            ]
          },
          "metadata": {
            "tags": []
          },
          "execution_count": 90
        }
      ]
    },
    {
      "cell_type": "code",
      "metadata": {
        "id": "tcRfPBBD7R_4",
        "colab_type": "code",
        "outputId": "0fe41660-4ed4-4fcf-c517-4a0a8aec425f",
        "colab": {
          "base_uri": "https://localhost:8080/",
          "height": 111
        }
      },
      "source": [
        "df_test"
      ],
      "execution_count": 91,
      "outputs": [
        {
          "output_type": "execute_result",
          "data": {
            "text/html": [
              "<div>\n",
              "<style scoped>\n",
              "    .dataframe tbody tr th:only-of-type {\n",
              "        vertical-align: middle;\n",
              "    }\n",
              "\n",
              "    .dataframe tbody tr th {\n",
              "        vertical-align: top;\n",
              "    }\n",
              "\n",
              "    .dataframe thead th {\n",
              "        text-align: right;\n",
              "    }\n",
              "</style>\n",
              "<table border=\"1\" class=\"dataframe\">\n",
              "  <thead>\n",
              "    <tr style=\"text-align: right;\">\n",
              "      <th></th>\n",
              "      <th>combo</th>\n",
              "      <th>p1</th>\n",
              "      <th>p2</th>\n",
              "      <th>combo_cleaned</th>\n",
              "    </tr>\n",
              "  </thead>\n",
              "  <tbody>\n",
              "    <tr>\n",
              "      <th>0</th>\n",
              "      <td>today is a great</td>\n",
              "      <td>1</td>\n",
              "      <td>4</td>\n",
              "      <td>today great</td>\n",
              "    </tr>\n",
              "    <tr>\n",
              "      <th>1</th>\n",
              "      <td>it is  very sunny today</td>\n",
              "      <td>2</td>\n",
              "      <td>5</td>\n",
              "      <td>sunni today</td>\n",
              "    </tr>\n",
              "  </tbody>\n",
              "</table>\n",
              "</div>"
            ],
            "text/plain": [
              "                     combo p1 p2 combo_cleaned\n",
              "0        today is a great   1  4   today great\n",
              "1  it is  very sunny today  2  5   sunni today"
            ]
          },
          "metadata": {
            "tags": []
          },
          "execution_count": 91
        }
      ]
    },
    {
      "cell_type": "code",
      "metadata": {
        "id": "QW6YA51-Mo-q",
        "colab_type": "code",
        "colab": {}
      },
      "source": [
        ""
      ],
      "execution_count": 0,
      "outputs": []
    },
    {
      "cell_type": "code",
      "metadata": {
        "id": "OOo6R_oEMo8O",
        "colab_type": "code",
        "colab": {}
      },
      "source": [
        "def checker(cs):\n",
        "  from heapq import nlargest \n",
        "  listofkeys=[]\n",
        "  listofvalues=cs\n",
        "  i=0\n",
        "  sindex=[]\n",
        "  sscore=[]\n",
        "  for i in range (0,len(df_train['combo_cleaned'])):\n",
        "    listofkeys.append(i)\n",
        "  di=dict(zip(listofkeys,listofvalues))  \n",
        "  print(di)\n",
        "  ThreeHighest = nlargest(3, di, key = di.get) \n",
        "  print(\"Dictionary with 3 highest values:\") \n",
        "  print(\"Keys: Values\")  \n",
        " \n",
        "  for val in ThreeHighest: \n",
        "      print(val, \":\", di.get(val)) \n",
        "      sindex.append(val)\n",
        "      sscore.append(di.get(val))\n",
        "  return(sindex[0],sindex[1],sindex[2],sscore[0],sscore[1],sscore[2])\n",
        "  "
      ],
      "execution_count": 0,
      "outputs": []
    },
    {
      "cell_type": "code",
      "metadata": {
        "id": "3gSJDQsECVtJ",
        "colab_type": "code",
        "outputId": "8a8ca154-787a-476a-dcbd-b873b21bc12a",
        "colab": {
          "base_uri": "https://localhost:8080/",
          "height": 221
        }
      },
      "source": [
        "import joblib\n",
        "\n",
        "from sklearn.metrics.pairwise import cosine_similarity\n",
        "\n",
        "vect=joblib.load('vectorizer.pkl')\n",
        "i=0\n",
        "s1_in=[]\n",
        "s2_in=[]\n",
        "s3_in=[]\n",
        "s1_val=[]\n",
        "s2_val=[]\n",
        "s3_val=[]\n",
        "var1=[]\n",
        "var2=[]\n",
        "var3=[]\n",
        "para1_1=[]\n",
        "para2_1=[]\n",
        "para1_2=[]\n",
        "para2_2=[]\n",
        "para1_3=[]\n",
        "para2_3=[]\n",
        "\n",
        "for i in range(0,len(df_test['combo_cleaned'])):\n",
        "  j=0\n",
        "  \n",
        "  score=[]\n",
        "  score1=[]\n",
        "  score2=[]\n",
        "  score3=[]\n",
        "  for j in range(0,len(df_train['combo_cleaned'])):\n",
        "    \n",
        "    v1=vect.transform([df_test[ 'combo_cleaned'][i]])\n",
        "    \n",
        "    v2=vect.transform([df_train['combo_cleaned'][j]])\n",
        "   \n",
        "    \n",
        "    score.append(cosine_similarity (v1, v2))\n",
        "    score1=[l.tolist() for l in score]\n",
        "    score2=[item for sublist in score1 for item in sublist]\n",
        "    score3=[item for sublist in score2 for item in sublist]     \n",
        "  sin1,sin2,sin3,ss1,ss2,ss3=checker(score3)  \n",
        "  s1_in.append(sin1)\n",
        "  var1.append(df_train['var'][sin1])\n",
        "\n",
        "  para1_1.append(df_train['p1'][sin1])\n",
        "  para2_1.append(df_train['p2'][sin1])\n",
        "  \n",
        "  \n",
        "  s2_in.append(sin2)\n",
        "  var2.append(df_train['var'][sin2])\n",
        "  para1_2.append(df_train['p1'][sin2])\n",
        "  para2_2.append(df_train['p2'][sin2])\n",
        "  \n",
        "  \n",
        "  s3_in.append(sin3)\n",
        "  var3.append(df_train['var'][sin3])\n",
        "  para1_3.append(df_train['p1'][sin3])\n",
        "  para2_3.append(df_train['p2'][sin3])\n",
        "  \n",
        "  s1_val.append(ss1)\n",
        "  s2_val.append(ss2)\n",
        "  s3_val.append(ss3)\n",
        "  "
      ],
      "execution_count": 93,
      "outputs": [
        {
          "output_type": "stream",
          "text": [
            "{0: 0.7925411347625899, 1: 0.0, 2: 0.7925411347625899, 3: 0.0, 4: 0.638710577565487}\n",
            "Dictionary with 3 highest values:\n",
            "Keys: Values\n",
            "0 : 0.7925411347625899\n",
            "2 : 0.7925411347625899\n",
            "4 : 0.638710577565487\n",
            "{0: 0.38291340085305664, 1: 0.6057243079292997, 2: 0.38291340085305664, 3: 0.0, 4: 0.0}\n",
            "Dictionary with 3 highest values:\n",
            "Keys: Values\n",
            "1 : 0.6057243079292997\n",
            "0 : 0.38291340085305664\n",
            "2 : 0.38291340085305664\n"
          ],
          "name": "stdout"
        }
      ]
    },
    {
      "cell_type": "code",
      "metadata": {
        "id": "dyKamiFhF5IO",
        "colab_type": "code",
        "colab": {}
      },
      "source": [
        "df1 = pd.DataFrame(list(zip(s1_in,var1,para1_1,para2_1,s1_val,s2_in,var2,para1_2,para2_2,s2_val,s3_in,var3,para1_3,para2_3,s3_val)), columns=['index1','variable1','p1','p2','Score1','index2','variable2','p1','p2','Score2','index3','variable3','p1','p2','Score3'])"
      ],
      "execution_count": 0,
      "outputs": []
    },
    {
      "cell_type": "code",
      "metadata": {
        "id": "EVkLUvyUEMje",
        "colab_type": "code",
        "colab": {}
      },
      "source": [
        "df_final = pd.concat([df_test, df1], axis=1)"
      ],
      "execution_count": 0,
      "outputs": []
    },
    {
      "cell_type": "code",
      "metadata": {
        "id": "8AtGJX1IEfWu",
        "colab_type": "code",
        "colab": {
          "base_uri": "https://localhost:8080/",
          "height": 111
        },
        "outputId": "19fe9b6f-8b56-4884-8682-6b384c70f54a"
      },
      "source": [
        "df_final"
      ],
      "execution_count": 96,
      "outputs": [
        {
          "output_type": "execute_result",
          "data": {
            "text/html": [
              "<div>\n",
              "<style scoped>\n",
              "    .dataframe tbody tr th:only-of-type {\n",
              "        vertical-align: middle;\n",
              "    }\n",
              "\n",
              "    .dataframe tbody tr th {\n",
              "        vertical-align: top;\n",
              "    }\n",
              "\n",
              "    .dataframe thead th {\n",
              "        text-align: right;\n",
              "    }\n",
              "</style>\n",
              "<table border=\"1\" class=\"dataframe\">\n",
              "  <thead>\n",
              "    <tr style=\"text-align: right;\">\n",
              "      <th></th>\n",
              "      <th>combo</th>\n",
              "      <th>p1</th>\n",
              "      <th>p2</th>\n",
              "      <th>combo_cleaned</th>\n",
              "      <th>index1</th>\n",
              "      <th>variable1</th>\n",
              "      <th>p1</th>\n",
              "      <th>p2</th>\n",
              "      <th>Score1</th>\n",
              "      <th>index2</th>\n",
              "      <th>variable2</th>\n",
              "      <th>p1</th>\n",
              "      <th>p2</th>\n",
              "      <th>Score2</th>\n",
              "      <th>index3</th>\n",
              "      <th>variable3</th>\n",
              "      <th>p1</th>\n",
              "      <th>p2</th>\n",
              "      <th>Score3</th>\n",
              "    </tr>\n",
              "  </thead>\n",
              "  <tbody>\n",
              "    <tr>\n",
              "      <th>0</th>\n",
              "      <td>today is a great</td>\n",
              "      <td>1</td>\n",
              "      <td>4</td>\n",
              "      <td>today great</td>\n",
              "      <td>0</td>\n",
              "      <td>x</td>\n",
              "      <td>1</td>\n",
              "      <td>4</td>\n",
              "      <td>0.792541</td>\n",
              "      <td>2</td>\n",
              "      <td>z</td>\n",
              "      <td>3</td>\n",
              "      <td>6</td>\n",
              "      <td>0.792541</td>\n",
              "      <td>4</td>\n",
              "      <td>n</td>\n",
              "      <td>0</td>\n",
              "      <td>8</td>\n",
              "      <td>0.638711</td>\n",
              "    </tr>\n",
              "    <tr>\n",
              "      <th>1</th>\n",
              "      <td>it is  very sunny today</td>\n",
              "      <td>2</td>\n",
              "      <td>5</td>\n",
              "      <td>sunni today</td>\n",
              "      <td>1</td>\n",
              "      <td>y</td>\n",
              "      <td>2</td>\n",
              "      <td>5</td>\n",
              "      <td>0.605724</td>\n",
              "      <td>0</td>\n",
              "      <td>x</td>\n",
              "      <td>1</td>\n",
              "      <td>4</td>\n",
              "      <td>0.382913</td>\n",
              "      <td>2</td>\n",
              "      <td>z</td>\n",
              "      <td>3</td>\n",
              "      <td>6</td>\n",
              "      <td>0.382913</td>\n",
              "    </tr>\n",
              "  </tbody>\n",
              "</table>\n",
              "</div>"
            ],
            "text/plain": [
              "                     combo p1 p2 combo_cleaned  ...  variable3 p1 p2    Score3\n",
              "0        today is a great   1  4   today great  ...          n  0  8  0.638711\n",
              "1  it is  very sunny today  2  5   sunni today  ...          z  3  6  0.382913\n",
              "\n",
              "[2 rows x 19 columns]"
            ]
          },
          "metadata": {
            "tags": []
          },
          "execution_count": 96
        }
      ]
    },
    {
      "cell_type": "code",
      "metadata": {
        "id": "8sB-vqwHHXbm",
        "colab_type": "code",
        "colab": {
          "base_uri": "https://localhost:8080/",
          "height": 204
        },
        "outputId": "2aa76f09-d365-4c9e-a9bd-a74f4b55ea7f"
      },
      "source": [
        "df_train"
      ],
      "execution_count": 97,
      "outputs": [
        {
          "output_type": "execute_result",
          "data": {
            "text/html": [
              "<div>\n",
              "<style scoped>\n",
              "    .dataframe tbody tr th:only-of-type {\n",
              "        vertical-align: middle;\n",
              "    }\n",
              "\n",
              "    .dataframe tbody tr th {\n",
              "        vertical-align: top;\n",
              "    }\n",
              "\n",
              "    .dataframe thead th {\n",
              "        text-align: right;\n",
              "    }\n",
              "</style>\n",
              "<table border=\"1\" class=\"dataframe\">\n",
              "  <thead>\n",
              "    <tr style=\"text-align: right;\">\n",
              "      <th></th>\n",
              "      <th>combo</th>\n",
              "      <th>var</th>\n",
              "      <th>p1</th>\n",
              "      <th>p2</th>\n",
              "      <th>combo_cleaned</th>\n",
              "    </tr>\n",
              "  </thead>\n",
              "  <tbody>\n",
              "    <tr>\n",
              "      <th>0</th>\n",
              "      <td>today is a great day</td>\n",
              "      <td>x</td>\n",
              "      <td>1</td>\n",
              "      <td>4</td>\n",
              "      <td>today great day</td>\n",
              "    </tr>\n",
              "    <tr>\n",
              "      <th>1</th>\n",
              "      <td>it is a very sunny day</td>\n",
              "      <td>y</td>\n",
              "      <td>2</td>\n",
              "      <td>5</td>\n",
              "      <td>sunni day</td>\n",
              "    </tr>\n",
              "    <tr>\n",
              "      <th>2</th>\n",
              "      <td>Today I have a great plan</td>\n",
              "      <td>z</td>\n",
              "      <td>3</td>\n",
              "      <td>6</td>\n",
              "      <td>today great plan</td>\n",
              "    </tr>\n",
              "    <tr>\n",
              "      <th>3</th>\n",
              "      <td>plan</td>\n",
              "      <td>m</td>\n",
              "      <td>9</td>\n",
              "      <td>7</td>\n",
              "      <td>plan</td>\n",
              "    </tr>\n",
              "    <tr>\n",
              "      <th>4</th>\n",
              "      <td>great</td>\n",
              "      <td>n</td>\n",
              "      <td>0</td>\n",
              "      <td>8</td>\n",
              "      <td>great</td>\n",
              "    </tr>\n",
              "  </tbody>\n",
              "</table>\n",
              "</div>"
            ],
            "text/plain": [
              "                       combo var p1 p2     combo_cleaned\n",
              "0       today is a great day   x  1  4   today great day\n",
              "1     it is a very sunny day   y  2  5         sunni day\n",
              "2  Today I have a great plan   z  3  6  today great plan\n",
              "3                       plan   m  9  7              plan\n",
              "4                      great   n  0  8             great"
            ]
          },
          "metadata": {
            "tags": []
          },
          "execution_count": 97
        }
      ]
    },
    {
      "cell_type": "code",
      "metadata": {
        "id": "F3NLxjXqKZe_",
        "colab_type": "code",
        "colab": {
          "base_uri": "https://localhost:8080/",
          "height": 34
        },
        "outputId": "69259373-bca8-4317-eea7-d785ce335a37"
      },
      "source": [
        "nl"
      ],
      "execution_count": 98,
      "outputs": [
        {
          "output_type": "execute_result",
          "data": {
            "text/plain": [
              "[[0, 1], [2, 0], [4, 2]]"
            ]
          },
          "metadata": {
            "tags": []
          },
          "execution_count": 98
        }
      ]
    },
    {
      "cell_type": "code",
      "metadata": {
        "id": "_yMYfD7dKnLy",
        "colab_type": "code",
        "colab": {
          "base_uri": "https://localhost:8080/",
          "height": 34
        },
        "outputId": "8b162aea-b627-4ddb-cf58-37f857c5e0e3"
      },
      "source": [
        "len(nl)"
      ],
      "execution_count": 99,
      "outputs": [
        {
          "output_type": "execute_result",
          "data": {
            "text/plain": [
              "3"
            ]
          },
          "metadata": {
            "tags": []
          },
          "execution_count": 99
        }
      ]
    },
    {
      "cell_type": "code",
      "metadata": {
        "id": "wABmFAcTKsRi",
        "colab_type": "code",
        "colab": {}
      },
      "source": [
        "para1=[]\n",
        "para2=[]\n",
        "para3=[]\n",
        "i=j=k=0\n",
        "for i in range(0,len(s1_in)):\n",
        "  \n",
        "  para1.append(df_train['p1'][s1_in[i]])\n",
        "\n",
        "for j in range(0,len(s2_in)):\n",
        " \n",
        "  para2.append(df_train['p2'][s2_in[i]])\n",
        "  \n",
        "\n",
        "    "
      ],
      "execution_count": 0,
      "outputs": []
    },
    {
      "cell_type": "code",
      "metadata": {
        "id": "coTUuCHQK7Rl",
        "colab_type": "code",
        "colab": {
          "base_uri": "https://localhost:8080/",
          "height": 34
        },
        "outputId": "c5ab41bb-66f2-465d-bb93-2a1d2b689218"
      },
      "source": [
        "para1"
      ],
      "execution_count": 76,
      "outputs": [
        {
          "output_type": "execute_result",
          "data": {
            "text/plain": [
              "['1', '2']"
            ]
          },
          "metadata": {
            "tags": []
          },
          "execution_count": 76
        }
      ]
    },
    {
      "cell_type": "code",
      "metadata": {
        "id": "aVXNAuY2NaxB",
        "colab_type": "code",
        "colab": {
          "base_uri": "https://localhost:8080/",
          "height": 34
        },
        "outputId": "4cec6212-bef2-4aa8-b423-7fda3e8ac0cb"
      },
      "source": [
        "para2_3"
      ],
      "execution_count": 78,
      "outputs": [
        {
          "output_type": "execute_result",
          "data": {
            "text/plain": [
              "['8', '6']"
            ]
          },
          "metadata": {
            "tags": []
          },
          "execution_count": 78
        }
      ]
    },
    {
      "cell_type": "code",
      "metadata": {
        "id": "0gEep6gmPK4I",
        "colab_type": "code",
        "colab": {}
      },
      "source": [
        ""
      ],
      "execution_count": 0,
      "outputs": []
    }
  ]
}